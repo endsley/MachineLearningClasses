{
 "cells": [
  {
   "cell_type": "code",
   "execution_count": 1,
   "metadata": {
    "execution": {
     "iopub.execute_input": "2025-10-20T12:58:49.819846Z",
     "iopub.status.busy": "2025-10-20T12:58:49.819383Z",
     "iopub.status.idle": "2025-10-20T12:58:49.954748Z",
     "shell.execute_reply": "2025-10-20T12:58:49.954022Z"
    }
   },
   "outputs": [],
   "source": [
    "#!/usr/bin/env python\n",
    "import numpy as np"
   ]
  },
  {
   "cell_type": "markdown",
   "metadata": {},
   "source": [
    "A simple 2×3 example"
   ]
  },
  {
   "cell_type": "code",
   "execution_count": 2,
   "metadata": {
    "execution": {
     "iopub.execute_input": "2025-10-20T12:58:49.958139Z",
     "iopub.status.busy": "2025-10-20T12:58:49.957977Z",
     "iopub.status.idle": "2025-10-20T12:58:49.960866Z",
     "shell.execute_reply": "2025-10-20T12:58:49.960269Z"
    }
   },
   "outputs": [],
   "source": [
    "A = np.array([[3., 2.,  2.],\n",
    "              [2., 3., -2.]])"
   ]
  },
  {
   "cell_type": "markdown",
   "metadata": {},
   "source": [
    "Compute SVD: A = U Σ Vᵀ"
   ]
  },
  {
   "cell_type": "code",
   "execution_count": 3,
   "metadata": {
    "execution": {
     "iopub.execute_input": "2025-10-20T12:58:49.964327Z",
     "iopub.status.busy": "2025-10-20T12:58:49.964159Z",
     "iopub.status.idle": "2025-10-20T12:58:49.967354Z",
     "shell.execute_reply": "2025-10-20T12:58:49.966710Z"
    }
   },
   "outputs": [],
   "source": [
    "U, σ, Vᵀ = np.linalg.svd(A, full_matrices=False)  # Vt is Vᵀ\n",
    "Σ = np.diag(σ)"
   ]
  },
  {
   "cell_type": "code",
   "execution_count": 4,
   "metadata": {
    "execution": {
     "iopub.execute_input": "2025-10-20T12:58:49.970761Z",
     "iopub.status.busy": "2025-10-20T12:58:49.970550Z",
     "iopub.status.idle": "2025-10-20T12:58:49.977201Z",
     "shell.execute_reply": "2025-10-20T12:58:49.976408Z"
    }
   },
   "outputs": [
    {
     "name": "stdout",
     "output_type": "stream",
     "text": [
      "A =\n",
      " [[ 3.  2.  2.]\n",
      " [ 2.  3. -2.]]\n",
      "\n",
      "U =\n",
      " [[-0.707107 -0.707107]\n",
      " [-0.707107  0.707107]]\n",
      "\n",
      "Σ = diag(σ) =\n",
      " [[5. 0.]\n",
      " [0. 3.]]\n",
      "\n",
      "Vᵀ =\n",
      " [[-0.707107 -0.707107 -0.      ]\n",
      " [-0.235702  0.235702 -0.942809]]\n"
     ]
    }
   ],
   "source": [
    "np.set_printoptions(precision=6, suppress=True)\n",
    "print(\"A =\\n\", A)\n",
    "print(\"\\nU =\\n\", U)\n",
    "print(\"\\nΣ = diag(σ) =\\n\", Σ)\n",
    "print(\"\\nVᵀ =\\n\", Vᵀ)"
   ]
  },
  {
   "cell_type": "markdown",
   "metadata": {},
   "source": [
    "Verify orthonormality and reconstruction"
   ]
  },
  {
   "cell_type": "code",
   "execution_count": 5,
   "metadata": {
    "execution": {
     "iopub.execute_input": "2025-10-20T12:58:50.038363Z",
     "iopub.status.busy": "2025-10-20T12:58:50.038107Z",
     "iopub.status.idle": "2025-10-20T12:58:50.042819Z",
     "shell.execute_reply": "2025-10-20T12:58:50.041704Z"
    }
   },
   "outputs": [],
   "source": [
    "I_U = U.T @ U\n",
    "I_V = Vᵀ@ Vᵀ.T\n",
    "Ã = U @ Σ @ Vᵀ"
   ]
  },
  {
   "cell_type": "code",
   "execution_count": 6,
   "metadata": {
    "execution": {
     "iopub.execute_input": "2025-10-20T12:58:50.046358Z",
     "iopub.status.busy": "2025-10-20T12:58:50.046074Z",
     "iopub.status.idle": "2025-10-20T12:58:50.052153Z",
     "shell.execute_reply": "2025-10-20T12:58:50.051381Z"
    }
   },
   "outputs": [
    {
     "name": "stdout",
     "output_type": "stream",
     "text": [
      "\n",
      "UᵀU ≈ I =\n",
      " [[1. 0.]\n",
      " [0. 1.]]\n",
      "\n",
      "VᵀV ≈ I =\n",
      " [[1. 0.]\n",
      " [0. 1.]]\n",
      "\n",
      "Reconstruction U Σ Vᵀ =\n",
      " [[ 3.  2.  2.]\n",
      " [ 2.  3. -2.]]\n",
      "\n",
      "‖A − U Σ Vᵀ‖_F = 1.5543122344752192e-15\n"
     ]
    }
   ],
   "source": [
    "print(\"\\nUᵀU ≈ I =\\n\", I_U)\n",
    "print(\"\\nVᵀV ≈ I =\\n\", I_V)\n",
    "print(\"\\nReconstruction U Σ Vᵀ =\\n\", Ã)\n",
    "print(\"\\n‖A − U Σ Vᵀ‖_F =\", np.linalg.norm(A - Ã, ord=\"fro\"))"
   ]
  }
 ],
 "metadata": {
  "kernelspec": {
   "display_name": "Python 3",
   "language": "python",
   "name": "python3"
  },
  "language_info": {
   "codemirror_mode": {
    "name": "ipython",
    "version": 3
   },
   "file_extension": ".py",
   "mimetype": "text/x-python",
   "name": "python",
   "nbconvert_exporter": "python",
   "pygments_lexer": "ipython3",
   "version": "3.8.10"
  }
 },
 "nbformat": 4,
 "nbformat_minor": 2
}
