{
 "cells": [
  {
   "cell_type": "code",
   "execution_count": 1,
   "metadata": {
    "execution": {
     "iopub.execute_input": "2025-10-20T13:15:48.336126Z",
     "iopub.status.busy": "2025-10-20T13:15:48.335655Z",
     "iopub.status.idle": "2025-10-20T13:15:48.470292Z",
     "shell.execute_reply": "2025-10-20T13:15:48.469472Z"
    }
   },
   "outputs": [],
   "source": [
    "#!/usr/bin/env python\n",
    "import numpy as np\n",
    "np.set_printoptions(precision=6, suppress=True)"
   ]
  },
  {
   "cell_type": "markdown",
   "metadata": {},
   "source": [
    "A simple 2×3 example"
   ]
  },
  {
   "cell_type": "code",
   "execution_count": 2,
   "metadata": {
    "execution": {
     "iopub.execute_input": "2025-10-20T13:15:48.473261Z",
     "iopub.status.busy": "2025-10-20T13:15:48.473098Z",
     "iopub.status.idle": "2025-10-20T13:15:48.476151Z",
     "shell.execute_reply": "2025-10-20T13:15:48.475493Z"
    }
   },
   "outputs": [],
   "source": [
    "A = np.array([[3., 2.,  2.],\n",
    "              [2., 3., -2.]])"
   ]
  },
  {
   "cell_type": "markdown",
   "metadata": {},
   "source": [
    "Compute SVD: A = U Σ Vᵀ"
   ]
  },
  {
   "cell_type": "code",
   "execution_count": 3,
   "metadata": {
    "execution": {
     "iopub.execute_input": "2025-10-20T13:15:48.479439Z",
     "iopub.status.busy": "2025-10-20T13:15:48.479267Z",
     "iopub.status.idle": "2025-10-20T13:15:48.482397Z",
     "shell.execute_reply": "2025-10-20T13:15:48.481755Z"
    }
   },
   "outputs": [],
   "source": [
    "U, σ, Vᵀ = np.linalg.svd(A, full_matrices=False)  # Vt is Vᵀ\n",
    "Σ = np.diag(σ)"
   ]
  },
  {
   "cell_type": "markdown",
   "metadata": {},
   "source": [
    "Verify orthonormality and reconstruction"
   ]
  },
  {
   "cell_type": "code",
   "execution_count": 4,
   "metadata": {
    "execution": {
     "iopub.execute_input": "2025-10-20T13:15:48.485708Z",
     "iopub.status.busy": "2025-10-20T13:15:48.485538Z",
     "iopub.status.idle": "2025-10-20T13:15:48.488650Z",
     "shell.execute_reply": "2025-10-20T13:15:48.487931Z"
    }
   },
   "outputs": [],
   "source": [
    "I_U = U.T @ U\n",
    "I_V = Vᵀ@ Vᵀ.T\n",
    "Ã = U @ Σ @ Vᵀ"
   ]
  },
  {
   "cell_type": "code",
   "execution_count": 5,
   "metadata": {
    "execution": {
     "iopub.execute_input": "2025-10-20T13:15:48.491653Z",
     "iopub.status.busy": "2025-10-20T13:15:48.491442Z",
     "iopub.status.idle": "2025-10-20T13:15:48.497957Z",
     "shell.execute_reply": "2025-10-20T13:15:48.496123Z"
    }
   },
   "outputs": [
    {
     "name": "stdout",
     "output_type": "stream",
     "text": [
      "\n",
      "UᵀU ≈ I =\n",
      " [[1. 0.]\n",
      " [0. 1.]]\n",
      "\n",
      "VᵀV ≈ I =\n",
      " [[1. 0.]\n",
      " [0. 1.]]\n",
      "\n",
      "Reconstruction U Σ Vᵀ =\n",
      " [[ 3.  2.  2.]\n",
      " [ 2.  3. -2.]]\n",
      "\n",
      "‖A − U Σ Vᵀ‖_F = 1.5543122344752192e-15\n"
     ]
    }
   ],
   "source": [
    "print(\"\\nUᵀU ≈ I =\\n\", I_U)\n",
    "print(\"\\nVᵀV ≈ I =\\n\", I_V)\n",
    "print(\"\\nReconstruction U Σ Vᵀ =\\n\", Ã)\n",
    "print(\"\\n‖A − U Σ Vᵀ‖_F =\", np.linalg.norm(A - Ã, ord=\"fro\"))"
   ]
  }
 ],
 "metadata": {
  "kernelspec": {
   "display_name": "Python 3",
   "language": "python",
   "name": "python3"
  },
  "language_info": {
   "codemirror_mode": {
    "name": "ipython",
    "version": 3
   },
   "file_extension": ".py",
   "mimetype": "text/x-python",
   "name": "python",
   "nbconvert_exporter": "python",
   "pygments_lexer": "ipython3",
   "version": "3.8.10"
  }
 },
 "nbformat": 4,
 "nbformat_minor": 2
}
