{
 "cells": [
  {
   "cell_type": "code",
   "execution_count": 1,
   "metadata": {
    "execution": {
     "iopub.execute_input": "2025-10-06T21:05:16.371345Z",
     "iopub.status.busy": "2025-10-06T21:05:16.370909Z",
     "iopub.status.idle": "2025-10-06T21:05:16.506038Z",
     "shell.execute_reply": "2025-10-06T21:05:16.505403Z"
    }
   },
   "outputs": [],
   "source": [
    "#!/usr/bin/env python\n",
    "import numpy as np"
   ]
  },
  {
   "cell_type": "markdown",
   "metadata": {},
   "source": [
    "Define the matrix A"
   ]
  },
  {
   "cell_type": "code",
   "execution_count": 2,
   "metadata": {
    "execution": {
     "iopub.execute_input": "2025-10-06T21:05:16.509389Z",
     "iopub.status.busy": "2025-10-06T21:05:16.509231Z",
     "iopub.status.idle": "2025-10-06T21:05:16.512725Z",
     "shell.execute_reply": "2025-10-06T21:05:16.512231Z"
    }
   },
   "outputs": [],
   "source": [
    "A = np.array([[ 3.07, -0.82, -2.23],\n",
    "              [-0.82,  4.09, -0.31],\n",
    "              [-2.23, -0.31,  1.84]], dtype=float)"
   ]
  },
  {
   "cell_type": "markdown",
   "metadata": {},
   "source": [
    "Define column eigenvectors"
   ]
  },
  {
   "cell_type": "code",
   "execution_count": 3,
   "metadata": {
    "execution": {
     "iopub.execute_input": "2025-10-06T21:05:16.516271Z",
     "iopub.status.busy": "2025-10-06T21:05:16.516087Z",
     "iopub.status.idle": "2025-10-06T21:05:16.518835Z",
     "shell.execute_reply": "2025-10-06T21:05:16.518312Z"
    }
   },
   "outputs": [],
   "source": [
    "v1 = np.array([[ 0.74],\n",
    "               [-0.49],\n",
    "               [-0.47]])"
   ]
  },
  {
   "cell_type": "code",
   "execution_count": 4,
   "metadata": {
    "execution": {
     "iopub.execute_input": "2025-10-06T21:05:16.521634Z",
     "iopub.status.busy": "2025-10-06T21:05:16.521460Z",
     "iopub.status.idle": "2025-10-06T21:05:16.524794Z",
     "shell.execute_reply": "2025-10-06T21:05:16.523991Z"
    }
   },
   "outputs": [],
   "source": [
    "v2 = np.array([[-0.29],\n",
    "               [-0.85],\n",
    "               [ 0.43]])"
   ]
  },
  {
   "cell_type": "code",
   "execution_count": 5,
   "metadata": {
    "execution": {
     "iopub.execute_input": "2025-10-06T21:05:16.527752Z",
     "iopub.status.busy": "2025-10-06T21:05:16.527545Z",
     "iopub.status.idle": "2025-10-06T21:05:16.530633Z",
     "shell.execute_reply": "2025-10-06T21:05:16.529961Z"
    }
   },
   "outputs": [],
   "source": [
    "v3 = np.array([[ 0.61],\n",
    "               [ 0.18],\n",
    "               [ 0.77]])"
   ]
  },
  {
   "cell_type": "markdown",
   "metadata": {},
   "source": [
    "Eigenvalues"
   ]
  },
  {
   "cell_type": "code",
   "execution_count": 6,
   "metadata": {
    "execution": {
     "iopub.execute_input": "2025-10-06T21:05:16.547223Z",
     "iopub.status.busy": "2025-10-06T21:05:16.546979Z",
     "iopub.status.idle": "2025-10-06T21:05:16.551490Z",
     "shell.execute_reply": "2025-10-06T21:05:16.550395Z"
    }
   },
   "outputs": [],
   "source": [
    "λ1, λ2, λ3 = 5.0, 4.0, 1e-4"
   ]
  },
  {
   "cell_type": "markdown",
   "metadata": {},
   "source": [
    "Stack eigenvectors into V and build diagonal Λ"
   ]
  },
  {
   "cell_type": "code",
   "execution_count": 7,
   "metadata": {
    "execution": {
     "iopub.execute_input": "2025-10-06T21:05:16.556030Z",
     "iopub.status.busy": "2025-10-06T21:05:16.555736Z",
     "iopub.status.idle": "2025-10-06T21:05:16.560018Z",
     "shell.execute_reply": "2025-10-06T21:05:16.559384Z"
    }
   },
   "outputs": [],
   "source": [
    "V = np.hstack([v1, v2, v3])\n",
    "Λ = np.diag([λ1, λ2, λ3])"
   ]
  },
  {
   "cell_type": "markdown",
   "metadata": {},
   "source": [
    "Check orthonormality"
   ]
  },
  {
   "cell_type": "code",
   "execution_count": 8,
   "metadata": {
    "execution": {
     "iopub.execute_input": "2025-10-06T21:05:16.563672Z",
     "iopub.status.busy": "2025-10-06T21:05:16.563459Z",
     "iopub.status.idle": "2025-10-06T21:05:16.568004Z",
     "shell.execute_reply": "2025-10-06T21:05:16.567348Z"
    }
   },
   "outputs": [
    {
     "name": "stdout",
     "output_type": "stream",
     "text": [
      "VᵀV ≈\n",
      "[[ 1.0086e+00 -2.0000e-04  1.3000e-03]\n",
      " [-2.0000e-04  9.9150e-01  1.2000e-03]\n",
      " [ 1.3000e-03  1.2000e-03  9.9740e-01]]\n"
     ]
    }
   ],
   "source": [
    "print(\"VᵀV ≈\")\n",
    "print(V.T @ V)"
   ]
  },
  {
   "cell_type": "code",
   "execution_count": 9,
   "metadata": {
    "execution": {
     "iopub.execute_input": "2025-10-06T21:05:16.616746Z",
     "iopub.status.busy": "2025-10-06T21:05:16.616475Z",
     "iopub.status.idle": "2025-10-06T21:05:16.621939Z",
     "shell.execute_reply": "2025-10-06T21:05:16.620984Z"
    }
   },
   "outputs": [
    {
     "name": "stdout",
     "output_type": "stream",
     "text": [
      "[[ 3.07 -0.82 -2.23]\n",
      " [-0.82  4.09 -0.31]\n",
      " [-2.23 -0.31  1.84]] \n",
      "\n"
     ]
    }
   ],
   "source": [
    "print(A,'\\n')"
   ]
  },
  {
   "cell_type": "markdown",
   "metadata": {},
   "source": [
    "Full reconstruction using the spectral theorem"
   ]
  },
  {
   "cell_type": "code",
   "execution_count": 10,
   "metadata": {
    "execution": {
     "iopub.execute_input": "2025-10-06T21:05:16.625281Z",
     "iopub.status.busy": "2025-10-06T21:05:16.624988Z",
     "iopub.status.idle": "2025-10-06T21:05:16.630286Z",
     "shell.execute_reply": "2025-10-06T21:05:16.629680Z"
    }
   },
   "outputs": [
    {
     "name": "stdout",
     "output_type": "stream",
     "text": [
      "[[ 3.07443721 -0.82698902 -2.23775303]\n",
      " [-0.82698902  4.09050324 -0.31048614]\n",
      " [-2.23775303 -0.31048614  1.84415929]] \n",
      "\n"
     ]
    }
   ],
   "source": [
    "A_full = λ1 * (v1 @ v1.T) + λ2 * (v2 @ v2.T) + λ3 * (v3 @ v3.T)\n",
    "print(A_full,'\\n')"
   ]
  },
  {
   "cell_type": "code",
   "execution_count": 11,
   "metadata": {
    "execution": {
     "iopub.execute_input": "2025-10-06T21:05:16.633244Z",
     "iopub.status.busy": "2025-10-06T21:05:16.633050Z",
     "iopub.status.idle": "2025-10-06T21:05:16.637082Z",
     "shell.execute_reply": "2025-10-06T21:05:16.636479Z"
    }
   },
   "outputs": [
    {
     "name": "stdout",
     "output_type": "stream",
     "text": [
      "[[ 3.0744 -0.827  -2.2378]\n",
      " [-0.827   4.0905 -0.3105]\n",
      " [-2.2378 -0.3105  1.8441]] \n",
      "\n"
     ]
    }
   ],
   "source": [
    "A_appr = λ1 * (v1 @ v1.T) + λ2 * (v2 @ v2.T)\n",
    "print(A_appr,'\\n')"
   ]
  }
 ],
 "metadata": {
  "kernelspec": {
   "display_name": "Python 3",
   "language": "python",
   "name": "python3"
  },
  "language_info": {
   "codemirror_mode": {
    "name": "ipython",
    "version": 3
   },
   "file_extension": ".py",
   "mimetype": "text/x-python",
   "name": "python",
   "nbconvert_exporter": "python",
   "pygments_lexer": "ipython3",
   "version": "3.8.10"
  }
 },
 "nbformat": 4,
 "nbformat_minor": 2
}
