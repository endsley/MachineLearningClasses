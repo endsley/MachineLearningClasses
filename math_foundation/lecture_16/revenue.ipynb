{
 "cells": [
  {
   "cell_type": "code",
   "execution_count": 1,
   "metadata": {
    "execution": {
     "iopub.execute_input": "2025-11-01T18:11:18.878589Z",
     "iopub.status.busy": "2025-11-01T18:11:18.878123Z",
     "iopub.status.idle": "2025-11-01T18:11:19.674752Z",
     "shell.execute_reply": "2025-11-01T18:11:19.673326Z"
    }
   },
   "outputs": [],
   "source": [
    "#!/usr/bin/env python\n",
    "import numpy as np\n",
    "from numpy import array"
   ]
  },
  {
   "cell_type": "markdown",
   "metadata": {},
   "source": [
    "Gradient of R(x): "
   ]
  },
  {
   "cell_type": "code",
   "execution_count": 2,
   "metadata": {
    "execution": {
     "iopub.execute_input": "2025-11-01T18:11:19.681572Z",
     "iopub.status.busy": "2025-11-01T18:11:19.681165Z",
     "iopub.status.idle": "2025-11-01T18:11:19.736199Z",
     "shell.execute_reply": "2025-11-01T18:11:19.734883Z"
    }
   },
   "outputs": [],
   "source": [
    "def grad_R(a, p):\n",
    "\tߜp = -2*p - a + 8\n",
    "\tߜa = -p - 3*a + 10\n",
    "\treturn [ߜp, ߜa]"
   ]
  },
  {
   "cell_type": "markdown",
   "metadata": {},
   "source": [
    "Gradient ascent"
   ]
  },
  {
   "cell_type": "code",
   "execution_count": 3,
   "metadata": {
    "execution": {
     "iopub.execute_input": "2025-11-01T18:11:19.742166Z",
     "iopub.status.busy": "2025-11-01T18:11:19.741818Z",
     "iopub.status.idle": "2025-11-01T18:11:19.748900Z",
     "shell.execute_reply": "2025-11-01T18:11:19.748003Z"
    }
   },
   "outputs": [],
   "source": [
    "def optimize_revenue(a = 1, p = 1):\n",
    "\twhile True:\n",
    "\t\t[ߜp, ߜa] = grad_R(a, p)\n",
    "\t\tif ߜp > 0: p = p + 0.00001\n",
    "\t\telif ߜp < 0: p = p - 0.00001\n",
    "#\n",
    "\t\tif ߜa > 0: a = a + 0.00001\n",
    "\t\telif ߜa < 0: a = a - 0.00001\n",
    "\t\t#print('a = %.3f, p = %.3f, ߜa = %.3f, ߜp = %.3f'%(a, p, ߜa, ߜp))\n",
    "\t\tif ߜp < 0.0001 and ߜa < 0.0001: \n",
    "\t\t\tprint(f\"Optimal p = %.3f, ߜp = %.3f\"%(p, ߜp))\n",
    "\t\t\tprint(f\"Optimal a = %.3f, ߜa = %.3f\"%(a, ߜa))\n",
    "\t\t\tbreak\n",
    "\treturn [a,p]"
   ]
  },
  {
   "cell_type": "markdown",
   "metadata": {},
   "source": [
    "Run"
   ]
  },
  {
   "cell_type": "code",
   "execution_count": 4,
   "metadata": {
    "execution": {
     "iopub.execute_input": "2025-11-01T18:11:19.753324Z",
     "iopub.status.busy": "2025-11-01T18:11:19.753006Z",
     "iopub.status.idle": "2025-11-01T18:11:19.852563Z",
     "shell.execute_reply": "2025-11-01T18:11:19.851763Z"
    }
   },
   "outputs": [
    {
     "name": "stdout",
     "output_type": "stream",
     "text": [
      "Optimal p = 2.800, ߜp = 0.000\n",
      "Optimal a = 2.400, ߜa = -0.000\n"
     ]
    }
   ],
   "source": [
    "optimal_advertising, optimal_pricing = optimize_revenue()"
   ]
  }
 ],
 "metadata": {
  "kernelspec": {
   "display_name": "Python 3",
   "language": "python",
   "name": "python3"
  },
  "language_info": {
   "codemirror_mode": {
    "name": "ipython",
    "version": 3
   },
   "file_extension": ".py",
   "mimetype": "text/x-python",
   "name": "python",
   "nbconvert_exporter": "python",
   "pygments_lexer": "ipython3",
   "version": "3.8.10"
  }
 },
 "nbformat": 4,
 "nbformat_minor": 2
}
