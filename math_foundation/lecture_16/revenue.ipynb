{
 "cells": [
  {
   "cell_type": "code",
   "execution_count": 1,
   "metadata": {
    "execution": {
     "iopub.execute_input": "2025-10-28T21:45:55.577712Z",
     "iopub.status.busy": "2025-10-28T21:45:55.577278Z",
     "iopub.status.idle": "2025-10-28T21:45:55.715993Z",
     "shell.execute_reply": "2025-10-28T21:45:55.715124Z"
    }
   },
   "outputs": [],
   "source": [
    "#!/usr/bin/env python\n",
    "import numpy as np\n",
    "from numpy import array"
   ]
  },
  {
   "cell_type": "markdown",
   "metadata": {},
   "source": [
    "Define Q, c, and d"
   ]
  },
  {
   "cell_type": "code",
   "execution_count": 2,
   "metadata": {
    "execution": {
     "iopub.execute_input": "2025-10-28T21:45:55.719379Z",
     "iopub.status.busy": "2025-10-28T21:45:55.719202Z",
     "iopub.status.idle": "2025-10-28T21:45:55.721964Z",
     "shell.execute_reply": "2025-10-28T21:45:55.721497Z"
    }
   },
   "outputs": [],
   "source": [
    "Q = array([[2, 1],\n",
    "\t \t  [1, 3]])\n",
    "c = array([8, 10])\n",
    "d = 5"
   ]
  },
  {
   "cell_type": "markdown",
   "metadata": {},
   "source": [
    "Gradient of R(x): ∇R(x) = -Qx + c"
   ]
  },
  {
   "cell_type": "code",
   "execution_count": 3,
   "metadata": {
    "execution": {
     "iopub.execute_input": "2025-10-28T21:45:55.725480Z",
     "iopub.status.busy": "2025-10-28T21:45:55.725309Z",
     "iopub.status.idle": "2025-10-28T21:45:55.728258Z",
     "shell.execute_reply": "2025-10-28T21:45:55.727649Z"
    }
   },
   "outputs": [],
   "source": [
    "def grad_R(a, p):\n",
    "\tߜp = -2*p - a + 8\n",
    "\tߜa = -p - 3*a + 10\n",
    "\treturn [ߜp, ߜa]"
   ]
  },
  {
   "cell_type": "markdown",
   "metadata": {},
   "source": [
    "Gradient ascent"
   ]
  },
  {
   "cell_type": "code",
   "execution_count": 4,
   "metadata": {
    "execution": {
     "iopub.execute_input": "2025-10-28T21:45:55.731768Z",
     "iopub.status.busy": "2025-10-28T21:45:55.731614Z",
     "iopub.status.idle": "2025-10-28T21:45:55.735714Z",
     "shell.execute_reply": "2025-10-28T21:45:55.735109Z"
    }
   },
   "outputs": [],
   "source": [
    "def optimize_revenue(a = 1, p = 1):\n",
    "\twhile True:\n",
    "\t\t[ߜp, ߜa] = grad_R(a, p)\n",
    "\t\tif ߜp > 0: p = p + 0.00001\n",
    "\t\telif ߜp < 0: p = p - 0.00001\n",
    "#\n",
    "\t\tif ߜa > 0: a = a + 0.00001\n",
    "\t\telif ߜa < 0: a = a - 0.00001\n",
    "\t\t#print('a = %.3f, p = %.3f, ߜa = %.3f, ߜp = %.3f'%(a, p, ߜa, ߜp))\n",
    "\t\tif ߜp < 0.0001 and ߜa < 0.0001: \n",
    "\t\t\tprint(f\"Optimal p = %.3f, ߜp = %.3f\"%(p, ߜp))\n",
    "\t\t\tprint(f\"Optimal a = %.3f, ߜa = %.3f\"%(a, ߜa))\n",
    "\t\t\tbreak\n",
    "\treturn [a,p]"
   ]
  },
  {
   "cell_type": "markdown",
   "metadata": {},
   "source": [
    "Run"
   ]
  },
  {
   "cell_type": "code",
   "execution_count": 5,
   "metadata": {
    "execution": {
     "iopub.execute_input": "2025-10-28T21:45:55.738707Z",
     "iopub.status.busy": "2025-10-28T21:45:55.738518Z",
     "iopub.status.idle": "2025-10-28T21:45:55.812600Z",
     "shell.execute_reply": "2025-10-28T21:45:55.812114Z"
    }
   },
   "outputs": [
    {
     "name": "stdout",
     "output_type": "stream",
     "text": [
      "Optimal p = 2.800, ߜp = 0.000\n",
      "Optimal a = 2.400, ߜa = -0.000\n"
     ]
    }
   ],
   "source": [
    "optimal_advertising, optimal_pricing = optimize_revenue()"
   ]
  }
 ],
 "metadata": {
  "kernelspec": {
   "display_name": "Python 3",
   "language": "python",
   "name": "python3"
  },
  "language_info": {
   "codemirror_mode": {
    "name": "ipython",
    "version": 3
   },
   "file_extension": ".py",
   "mimetype": "text/x-python",
   "name": "python",
   "nbconvert_exporter": "python",
   "pygments_lexer": "ipython3",
   "version": "3.8.10"
  }
 },
 "nbformat": 4,
 "nbformat_minor": 2
}
